{
 "cells": [
  {
   "cell_type": "markdown",
   "source": [
    "Parameterization for file reading from data lake"
   ],
   "metadata": {
    "collapsed": false
   }
  },
  {
   "cell_type": "markdown",
   "source": [
    "Utility file with all the important functions such as opening a yml file, comparing columns of yml and raw data file has been created"
   ],
   "metadata": {
    "collapsed": false
   }
  },
  {
   "cell_type": "code",
   "execution_count": 1,
   "metadata": {
    "collapsed": true
   },
   "outputs": [
    {
     "name": "stdout",
     "output_type": "stream",
     "text": [
      "Writing testutility.py\n"
     ]
    }
   ],
   "source": [
    "%%writefile testutility.py\n",
    "import logging\n",
    "import os\n",
    "import subprocess\n",
    "import yaml\n",
    "import pandas as pd\n",
    "import datetime\n",
    "import gc\n",
    "import re\n",
    "\n",
    "\n",
    "################\n",
    "# File Reading #\n",
    "################\n",
    "\n",
    "def read_config_file(filepath):\n",
    "    with open(filepath, 'r') as stream:\n",
    "        try:\n",
    "            return yaml.safe_load(stream)\n",
    "        except yaml.YAMLError as exc:\n",
    "            logging.error(exc)\n",
    "\n",
    "\n",
    "def replacer(string, char):\n",
    "    pattern = char + '{2,}'\n",
    "    string = re.sub(pattern, char, string)\n",
    "    return string\n",
    "\n",
    "def col_header_val(df,table_config):\n",
    "    '''\n",
    "    replace whitespaces in the column\n",
    "    and standardized column names\n",
    "    '''\n",
    "\n",
    "    raw_columns = list(map(lambda x: x.lower(),  df.columns))\n",
    "    yml_columns = list(map(lambda x: x.lower(),  table_config['columns']))\n",
    "\n",
    "    yml_columns = [x.strip(' ') for x in yml_columns]\n",
    "    raw_columns = [x.strip(' ') for x in raw_columns]\n",
    "\n",
    "\n",
    "    expected_col=yml_columns\n",
    "\n",
    "\n",
    "    if len(raw_columns) == len(expected_col) and list(expected_col)  == list( raw_columns):\n",
    "        print(\"column name and column length validation passed\")\n",
    "        return 1\n",
    "    else:\n",
    "        print(\"column name and column length validation failed\")\n",
    "        mismatched_columns_file = list(set(raw_columns).difference(expected_col))\n",
    "        print(\"Following File columns are not in the YAML file\",mismatched_columns_file)\n",
    "        missing_YAML_file = list(set(expected_col).difference(raw_columns))\n",
    "        print(\"Following YAML columns are not in the file uploaded\",missing_YAML_file)\n",
    "        logging.info(f'df columns: {raw_columns}')\n",
    "        logging.info(f'expected columns: {expected_col}')\n",
    "        return 0"
   ]
  },
  {
   "cell_type": "markdown",
   "source": [
    "writing yml file"
   ],
   "metadata": {
    "collapsed": false
   }
  },
  {
   "cell_type": "code",
   "execution_count": 2,
   "outputs": [
    {
     "name": "stdout",
     "output_type": "stream",
     "text": [
      "Overwriting file.yaml\n"
     ]
    }
   ],
   "source": [
    "%%writefile file.yaml\n",
    "file_type: csv\n",
    "dataset_name: testfile\n",
    "file_name: Parking_Violations_Issued_-_Fiscal_Year_2017\n",
    "table_name: edsurv\n",
    "inbound_delimiter: \",\"\n",
    "outbound_delimiter: \"|\"\n",
    "skip_leading_rows: 1\n",
    "columns:\n",
    "- Summons Number\n",
    "- Plate ID\n",
    "- Registration State\n",
    "- Plate Type\n",
    "- Issue Date\n",
    "- Violation Code\n",
    "- Vehicle Body Type\n",
    "- Vehicle Make\n",
    "- Issuing Agency\n",
    "- Street Code1\n",
    "- Street Code2\n",
    "- Street Code3\n",
    "- Vehicle Expiration Date\n",
    "- Violation Location\n",
    "- Violation Precinct\n",
    "- Issuer Precinct\n",
    "- Issuer Code\n",
    "- Issuer Command\n",
    "- Issuer Squad\n",
    "- Violation Time\n",
    "- Time First Observed\n",
    "- Violation County\n",
    "- Violation In Front Of Or Opposite\n",
    "- House Number\n",
    "- Street Name\n",
    "- Intersecting Street\n",
    "- Date First Observed\n",
    "- Law Section\n",
    "- Sub Division\n",
    "- Violation Legal Code\n",
    "- Days Parking In Effect\n",
    "- From Hours In Effect\n",
    "- To Hours In Effect\n",
    "- Vehicle Color\n",
    "- Unregistered Vehicle?\n",
    "- Vehicle Year\n",
    "- Meter Number\n",
    "- Feet From Curb\n",
    "- Violation Post Code\n",
    "- Violation Description\n",
    "- No Standing or Stopping Violation\n",
    "- Hydrant Violation\n",
    "- Double Parking Violation"
   ],
   "metadata": {
    "collapsed": false
   }
  },
  {
   "cell_type": "code",
   "execution_count": 3,
   "outputs": [],
   "source": [
    "# Read config file\n",
    "import testutility as util\n",
    "config_data = util.read_config_file(\"file.yaml\")"
   ],
   "metadata": {
    "collapsed": false
   }
  },
  {
   "cell_type": "code",
   "execution_count": 4,
   "outputs": [
    {
     "data": {
      "text/plain": "','"
     },
     "execution_count": 4,
     "metadata": {},
     "output_type": "execute_result"
    }
   ],
   "source": [
    "config_data['inbound_delimiter']"
   ],
   "metadata": {
    "collapsed": false
   }
  },
  {
   "cell_type": "code",
   "execution_count": 5,
   "outputs": [
    {
     "data": {
      "text/plain": "{'file_type': 'csv',\n 'dataset_name': 'testfile',\n 'file_name': 'Parking_Violations_Issued_-_Fiscal_Year_2017',\n 'table_name': 'edsurv',\n 'inbound_delimiter': ',',\n 'outbound_delimiter': '|',\n 'skip_leading_rows': 1,\n 'columns': ['Summons Number',\n  'Plate ID',\n  'Registration State',\n  'Plate Type',\n  'Issue Date',\n  'Violation Code',\n  'Vehicle Body Type',\n  'Vehicle Make',\n  'Issuing Agency',\n  'Street Code1',\n  'Street Code2',\n  'Street Code3',\n  'Vehicle Expiration Date',\n  'Violation Location',\n  'Violation Precinct',\n  'Issuer Precinct',\n  'Issuer Code',\n  'Issuer Command',\n  'Issuer Squad',\n  'Violation Time',\n  'Time First Observed',\n  'Violation County',\n  'Violation In Front Of Or Opposite',\n  'House Number',\n  'Street Name',\n  'Intersecting Street',\n  'Date First Observed',\n  'Law Section',\n  'Sub Division',\n  'Violation Legal Code',\n  'Days Parking In Effect',\n  'From Hours In Effect',\n  'To Hours In Effect',\n  'Vehicle Color',\n  'Unregistered Vehicle?',\n  'Vehicle Year',\n  'Meter Number',\n  'Feet From Curb',\n  'Violation Post Code',\n  'Violation Description',\n  'No Standing or Stopping Violation',\n  'Hydrant Violation',\n  'Double Parking Violation']}"
     },
     "execution_count": 5,
     "metadata": {},
     "output_type": "execute_result"
    }
   ],
   "source": [
    "config_data"
   ],
   "metadata": {
    "collapsed": false
   }
  },
  {
   "cell_type": "code",
   "execution_count": 6,
   "outputs": [
    {
     "data": {
      "text/plain": "   Summons Number Plate ID Registration State Plate Type  Issue Date  \\\n0      5092469481  GZH7067                 NY        PAS  07/10/2016   \n1      5092451658  GZH7067                 NY        PAS  07/08/2016   \n2      4006265037  FZX9232                 NY        PAS  08/23/2016   \n3      8478629828  66623ME                 NY        COM  06/14/2017   \n4      7868300310  37033JV                 NY        COM  11/21/2016   \n\n   Violation Code Vehicle Body Type Vehicle Make Issuing Agency  Street Code1  \\\n0               7              SUBN        TOYOT              V             0   \n1               7              SUBN        TOYOT              V             0   \n2               5              SUBN         FORD              V             0   \n3              47              REFG        MITSU              T         10610   \n4              69              DELV        INTER              T         10510   \n\n   ...  Vehicle Color  Unregistered Vehicle?  Vehicle Year  Meter Number  \\\n0  ...             GY                    NaN          2001           NaN   \n1  ...             GY                    NaN          2001           NaN   \n2  ...             BK                    NaN          2004           NaN   \n3  ...             WH                    NaN          2007           NaN   \n4  ...          WHITE                    NaN          2007           NaN   \n\n   Feet From Curb  Violation Post Code          Violation Description  \\\n0               0                  NaN   FAILURE TO STOP AT RED LIGHT   \n1               0                  NaN   FAILURE TO STOP AT RED LIGHT   \n2               0                  NaN             BUS LANE VIOLATION   \n3               0                   04          47-Double PKG-Midtown   \n4               0                 31 6  69-Failure to Disp Muni Recpt   \n\n  No Standing or Stopping Violation Hydrant Violation Double Parking Violation  \n0                               NaN               NaN                      NaN  \n1                               NaN               NaN                      NaN  \n2                               NaN               NaN                      NaN  \n3                               NaN               NaN                      NaN  \n4                               NaN               NaN                      NaN  \n\n[5 rows x 43 columns]",
      "text/html": "<div>\n<style scoped>\n    .dataframe tbody tr th:only-of-type {\n        vertical-align: middle;\n    }\n\n    .dataframe tbody tr th {\n        vertical-align: top;\n    }\n\n    .dataframe thead th {\n        text-align: right;\n    }\n</style>\n<table border=\"1\" class=\"dataframe\">\n  <thead>\n    <tr style=\"text-align: right;\">\n      <th></th>\n      <th>Summons Number</th>\n      <th>Plate ID</th>\n      <th>Registration State</th>\n      <th>Plate Type</th>\n      <th>Issue Date</th>\n      <th>Violation Code</th>\n      <th>Vehicle Body Type</th>\n      <th>Vehicle Make</th>\n      <th>Issuing Agency</th>\n      <th>Street Code1</th>\n      <th>...</th>\n      <th>Vehicle Color</th>\n      <th>Unregistered Vehicle?</th>\n      <th>Vehicle Year</th>\n      <th>Meter Number</th>\n      <th>Feet From Curb</th>\n      <th>Violation Post Code</th>\n      <th>Violation Description</th>\n      <th>No Standing or Stopping Violation</th>\n      <th>Hydrant Violation</th>\n      <th>Double Parking Violation</th>\n    </tr>\n  </thead>\n  <tbody>\n    <tr>\n      <th>0</th>\n      <td>5092469481</td>\n      <td>GZH7067</td>\n      <td>NY</td>\n      <td>PAS</td>\n      <td>07/10/2016</td>\n      <td>7</td>\n      <td>SUBN</td>\n      <td>TOYOT</td>\n      <td>V</td>\n      <td>0</td>\n      <td>...</td>\n      <td>GY</td>\n      <td>NaN</td>\n      <td>2001</td>\n      <td>NaN</td>\n      <td>0</td>\n      <td>NaN</td>\n      <td>FAILURE TO STOP AT RED LIGHT</td>\n      <td>NaN</td>\n      <td>NaN</td>\n      <td>NaN</td>\n    </tr>\n    <tr>\n      <th>1</th>\n      <td>5092451658</td>\n      <td>GZH7067</td>\n      <td>NY</td>\n      <td>PAS</td>\n      <td>07/08/2016</td>\n      <td>7</td>\n      <td>SUBN</td>\n      <td>TOYOT</td>\n      <td>V</td>\n      <td>0</td>\n      <td>...</td>\n      <td>GY</td>\n      <td>NaN</td>\n      <td>2001</td>\n      <td>NaN</td>\n      <td>0</td>\n      <td>NaN</td>\n      <td>FAILURE TO STOP AT RED LIGHT</td>\n      <td>NaN</td>\n      <td>NaN</td>\n      <td>NaN</td>\n    </tr>\n    <tr>\n      <th>2</th>\n      <td>4006265037</td>\n      <td>FZX9232</td>\n      <td>NY</td>\n      <td>PAS</td>\n      <td>08/23/2016</td>\n      <td>5</td>\n      <td>SUBN</td>\n      <td>FORD</td>\n      <td>V</td>\n      <td>0</td>\n      <td>...</td>\n      <td>BK</td>\n      <td>NaN</td>\n      <td>2004</td>\n      <td>NaN</td>\n      <td>0</td>\n      <td>NaN</td>\n      <td>BUS LANE VIOLATION</td>\n      <td>NaN</td>\n      <td>NaN</td>\n      <td>NaN</td>\n    </tr>\n    <tr>\n      <th>3</th>\n      <td>8478629828</td>\n      <td>66623ME</td>\n      <td>NY</td>\n      <td>COM</td>\n      <td>06/14/2017</td>\n      <td>47</td>\n      <td>REFG</td>\n      <td>MITSU</td>\n      <td>T</td>\n      <td>10610</td>\n      <td>...</td>\n      <td>WH</td>\n      <td>NaN</td>\n      <td>2007</td>\n      <td>NaN</td>\n      <td>0</td>\n      <td>04</td>\n      <td>47-Double PKG-Midtown</td>\n      <td>NaN</td>\n      <td>NaN</td>\n      <td>NaN</td>\n    </tr>\n    <tr>\n      <th>4</th>\n      <td>7868300310</td>\n      <td>37033JV</td>\n      <td>NY</td>\n      <td>COM</td>\n      <td>11/21/2016</td>\n      <td>69</td>\n      <td>DELV</td>\n      <td>INTER</td>\n      <td>T</td>\n      <td>10510</td>\n      <td>...</td>\n      <td>WHITE</td>\n      <td>NaN</td>\n      <td>2007</td>\n      <td>NaN</td>\n      <td>0</td>\n      <td>31 6</td>\n      <td>69-Failure to Disp Muni Recpt</td>\n      <td>NaN</td>\n      <td>NaN</td>\n      <td>NaN</td>\n    </tr>\n  </tbody>\n</table>\n<p>5 rows × 43 columns</p>\n</div>"
     },
     "execution_count": 6,
     "metadata": {},
     "output_type": "execute_result"
    }
   ],
   "source": [
    "# read the file using config file\n",
    "import dask.dataframe as dd\n",
    "file_type = config_data['file_type']\n",
    "source_file = \"./\" + config_data['file_name'] + f'.{file_type}'\n",
    "# #print(\"\",source_file)\n",
    "# df = pd.read_csv(source_file)\n",
    "# df.head()\n",
    "\n",
    "data_dask = dd.read_csv(source_file,dtype={'House Number': 'object',\n",
    "                                              'Time First Observed': 'object'})\n",
    "data_dask.head()"
   ],
   "metadata": {
    "collapsed": false
   }
  },
  {
   "cell_type": "code",
   "execution_count": null,
   "outputs": [],
   "source": [
    "list(data_dask.columns)"
   ],
   "metadata": {
    "collapsed": false,
    "pycharm": {
     "is_executing": true
    }
   }
  },
  {
   "cell_type": "code",
   "execution_count": 8,
   "outputs": [
    {
     "name": "stdout",
     "output_type": "stream",
     "text": [
      "column name and column length validation passed\n"
     ]
    },
    {
     "data": {
      "text/plain": "1"
     },
     "execution_count": 8,
     "metadata": {},
     "output_type": "execute_result"
    }
   ],
   "source": [
    "util.col_header_val(data_dask,config_data)"
   ],
   "metadata": {
    "collapsed": false
   }
  },
  {
   "cell_type": "markdown",
   "source": [
    "GZIP conversion"
   ],
   "metadata": {
    "collapsed": false
   }
  },
  {
   "cell_type": "code",
   "execution_count": 1,
   "outputs": [],
   "source": [
    "import gzip\n",
    "import shutil\n",
    "with open('file.yaml', 'rb') as f_in:\n",
    "    with gzip.open('file.yaml.gz', 'wb') as f_out:\n",
    "        shutil.copyfileobj(f_in, f_out)"
   ],
   "metadata": {
    "collapsed": false
   }
  }
 ],
 "metadata": {
  "kernelspec": {
   "display_name": "Python 3",
   "language": "python",
   "name": "python3"
  },
  "language_info": {
   "codemirror_mode": {
    "name": "ipython",
    "version": 2
   },
   "file_extension": ".py",
   "mimetype": "text/x-python",
   "name": "python",
   "nbconvert_exporter": "python",
   "pygments_lexer": "ipython2",
   "version": "2.7.6"
  }
 },
 "nbformat": 4,
 "nbformat_minor": 0
}
